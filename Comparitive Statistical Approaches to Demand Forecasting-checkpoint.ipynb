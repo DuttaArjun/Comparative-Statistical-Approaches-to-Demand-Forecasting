{
 "cells": [
  {
   "cell_type": "markdown",
   "metadata": {
    "_uuid": "6e2756c941afa8493f292ce8565a0eb18ab26ef7"
   },
   "source": [
    "## Introduction\n",
    "\n",
    "ARIMA is one of the most classic time series forecasting models. During the modeling process, we mainly want to find 3 parameters. Auto-regression(AR) term, namly the lags of previous value; Integral(I) term for non-stationary differencing and Moving Average(MA) for error term.  \n",
    "\n",
    "I'm a newbie in this field. Found many online tutorials used grid search technique(auto.arima in R). Meanwhile I also found many hypothesis test to validate the time series, i.e. see if it's stationary, looking at ACF and PACF to suggest a AR term etc... \n",
    "\n",
    "Facebook has a package called prophet, which is quite complex and consider many things automaticlly. But out of curiosity, I want to understand what's the reasoning behind the model. ARIMA is definitely a good starting point.\n",
    "\n",
    "### My goal for this notebook:\n",
    "1. Understand ARIMA, SARIMA, ARIMAX  \n",
    "2. Walkthrough the necessary tests that ARIMA needs to statisfy\n",
    "3. Find a set of reasonable parameters base on a statistic tests and visualizations   \n",
    "\n",
    "### Notebook Outline:\n",
    "* ARIMA introduction  \n",
    "* Decompose the ts\n",
    "* Stationarize the data  \n",
    "* Interpret ACF and PACF  \n",
    "* Determine p, d, q\n",
    "* Adding seasonality: S-ARMIA\n",
    "* Adding holiday factors to be SARIMA-X\n",
    "\n",
    "\n",
    "#### A few things on my TODO list:\n",
    "- mulitple seasonality\n",
    "- outlier detection"
   ]
  },
  {
   "cell_type": "code",
   "execution_count": 1,
   "metadata": {
    "_uuid": "1a0c06bd41ef79a5c8acdd54686993b2031e279b",
    "slideshow": {
     "slide_type": "slide"
    }
   },
   "outputs": [],
   "source": [
    "import warnings\n",
    "warnings.filterwarnings('ignore')\n",
    "import numpy as np # linear algebra\n",
    "import pandas as pd # data processing, CSV file I/O (e.g. pd.read_csv)\n",
    "%matplotlib inline\n",
    "import matplotlib.pyplot as plt  # Matlab-style plotting\n",
    "import seaborn as sns\n",
    "import statsmodels.api as sm\n",
    "\n",
    "color = sns.color_palette()\n",
    "sns.set_style('darkgrid')\n"
   ]
  },
  {
   "cell_type": "code",
   "execution_count": null,
   "metadata": {
    "_uuid": "43e701579b56f07b937e6261d7e90054f0647bf3"
   },
   "outputs": [],
   "source": [
    "from subprocess import check_output\n",
    "print(check_output(['ls', '../input']).decode('utf-8'))"
   ]
  },
  {
   "cell_type": "code",
   "execution_count": null,
   "metadata": {
    "_uuid": "07ac6c57769c08e59e849446ee1beaba37d66b36",
    "slideshow": {
     "slide_type": "slide"
    }
   },
   "outputs": [],
   "source": [
    "train = pd.read_csv('../Data Sources/Train.csv')\n",
    "train['date'] = pd.to_datetime(train['date'], format=\"%Y-%m-%d\")\n",
    "\n",
    "train.head()"
   ]
  },
  {
   "cell_type": "markdown",
   "metadata": {
    "_uuid": "80bd1451cc2c5bff776aa942e8a6dc4015f135c0"
   },
   "source": [
    "# Forecast modeling - ARIMA\n",
    "\n",
    "we want to start with some basic/classic model like armia. \n",
    "Here is a list of online tutorials that helps me get started:  \n",
    "http://www.statsmodels.org/dev/examples/notebooks/generated/tsa_arma_0.html  \n",
    "http://www.seanabu.com/2016/03/22/time-series-seasonal-ARIMA-model-in-python/  \n",
    "http://barnesanalytics.com/basics-of-arima-models-with-statsmodels-in-python\n",
    "\n",
    "ARIMA model includes the AR term, the I term, and the MA term. Let’s actually start with the I term, as it is the easiest to explain. The I term is a full difference. That is today’s value minus yesterday’s value. That’s it.  \n",
    "The way that I like to think of the AR term is that it is a partial difference. The coefficient on the AR term will tell you the percent of a difference you need to take.   \n",
    "**MA**  \n",
    "A moving average term in a time series model is a past error (multiplied by a coefficient).The label \"moving average\" is is somewhat misleading because the weights 1,−θ1,−θ2,…,−θq, which multiply the a's, need not total unity nor need that be positive.  \n",
    "Xt=εt+θ1εt−1+⋯+θqεt−q  as akin to a weighted moving average of the ε terms,\n"
   ]
  },
  {
   "cell_type": "code",
   "execution_count": null,
   "metadata": {
    "_uuid": "87df2b860733255fbc8e960f7f2ae3133f9b32a0"
   },
   "outputs": [],
   "source": [
    "# per 1 store, 1 item\n",
    "train_df = train[train['store']==1]\n",
    "train_df = train_df[train['item']==1]\n",
    "# train_df = train_df.set_index('date')\n",
    "train_df['year'] = train['date'].dt.year\n",
    "train_df['month'] = train['date'].dt.month\n",
    "train_df['day'] = train['date'].dt.dayofyear\n",
    "train_df['weekday'] = train['date'].dt.weekday\n",
    "\n",
    "train_df.head()"
   ]
  },
  {
   "cell_type": "markdown",
   "metadata": {
    "_uuid": "c2137a5e7470eb62663b74844b4d3bce41659aca"
   },
   "source": [
    "## Decompose the time series\n",
    "To start with, we want to decompose the data to seperate the seasonality, trend and residual. Since we have 5 years of sales data. We would expect there's a yearly or weekly pattern. Let's use a function in statsmodels to help us find it. "
   ]
  },
  {
   "cell_type": "code",
   "execution_count": null,
   "metadata": {
    "_uuid": "bd54caa7b6b5eb48553a329086bd0cc2129a5a84"
   },
   "outputs": [],
   "source": [
    "sns.lineplot(x=\"date\", y=\"sales\",legend = 'full' , data=train_df)"
   ]
  },
  {
   "cell_type": "code",
   "execution_count": null,
   "metadata": {
    "_uuid": "f9ab27bcbb096bd40e70fd9cc8c52ad939ad2ea3"
   },
   "outputs": [],
   "source": [
    "sns.lineplot(x=\"date\", y=\"sales\",legend = 'full' , data=train_df[:28])"
   ]
  },
  {
   "cell_type": "code",
   "execution_count": null,
   "metadata": {
    "_uuid": "5b4ebbecaecac4ebf910c7643217a5d1ba9af56a"
   },
   "outputs": [],
   "source": [
    "sns.boxplot(x=\"weekday\", y=\"sales\", data=train_df)"
   ]
  },
  {
   "cell_type": "markdown",
   "metadata": {
    "_uuid": "472ade391a94feaa299d83f1e4c9a5b6156c7641"
   },
   "source": [
    "Monday=0, Sunday=6.  \n",
    "Here we can find the weekends(5,6) has a larger sales, weekdays(0-4) are smaller. There's a few outliers on Monday, Wed."
   ]
  },
  {
   "cell_type": "code",
   "execution_count": null,
   "metadata": {
    "_uuid": "cd30773611a255d59e9a79be4588bae7a71e03fa"
   },
   "outputs": [],
   "source": [
    "train_df = train_df.set_index('date')\n",
    "train_df['sales'] = train_df['sales'].astype(float)\n",
    "\n",
    "train_df.head()"
   ]
  },
  {
   "cell_type": "code",
   "execution_count": null,
   "metadata": {
    "_uuid": "abde3372bd8924e9730495472ea150b2b6f2a1f6"
   },
   "outputs": [],
   "source": [
    "from statsmodels.tsa.seasonal import seasonal_decompose\n",
    "result = seasonal_decompose(train_df['sales'], model='additive', freq=365)\n",
    "\n",
    "fig = plt.figure()  \n",
    "fig = result.plot()  \n",
    "fig.set_size_inches(15, 12)"
   ]
  },
  {
   "cell_type": "markdown",
   "metadata": {
    "_uuid": "37fb860cb3aba17c0dae8c0266bdabc4a8bfb834"
   },
   "source": [
    "Playing with a few frequency, the yearly pattern is very obvious. and also we can see a upwards trend. Which means this data is not stationary."
   ]
  },
  {
   "cell_type": "markdown",
   "metadata": {
    "_uuid": "dcbfe22a324c83710e741f949ed47e2049a7e33b"
   },
   "source": [
    "###  Stationarize the data:\n",
    "\n",
    "What does it mean for data to be stationary?\n",
    "\n",
    "The mean of the series should not be a function of time. The red graph below is not stationary because the mean increases over time. \n",
    "![alt text](https://imgur.com/LjtBXwf.png)\n",
    "\n",
    "The variance of the series should not be a function of time. This property is known as homoscedasticity. Notice in the red graph the varying spread of data over time. \n",
    "![alt text](https://imgur.com/v2Uye7X.png)\n",
    "\n",
    "Finally, the covariance of the i th term and the (i + m) th term should not be a function of time. In the following graph, you will notice the spread becomes closer as the time increases. Hence, the covariance is not constant with time for the ‘red series’. \n",
    "![Imgur](https://i.imgur.com/6HVlvg2.png)  \n",
    "Why is this important? When running a linear regression the assumption is that all of the observations are all independent of each other. In a time series, however, we know that observations are time dependent. It turns out that a lot of nice results that hold for independent random variables (law of large numbers and central limit theorem to name a couple) hold for stationary random variables. So by making the data stationary, we can actually apply regression techniques to this time dependent variable.\n",
    "\n",
    "There are two ways you can check the stationarity of a time series. The first is by looking at the data. By visualizing the data it should be easy to identify a changing mean or variation in the data. For a more accurate assessment there is the Dickey-Fuller test. I won’t go into the specifics of this test, but if the ‘Test Statistic’ is greater than the ‘Critical Value’ than the time series is stationary. Below is code that will help you visualize the time series and test for stationarity.\n",
    "\n"
   ]
  },
  {
   "cell_type": "code",
   "execution_count": null,
   "metadata": {
    "_uuid": "e9cbc13adbe2538ca0379751eb32c15bafeed898"
   },
   "outputs": [],
   "source": [
    "from statsmodels.tsa.stattools import adfuller\n",
    "def test_stationarity(timeseries, window = 12, cutoff = 0.01):\n",
    "\n",
    "    #Determing rolling statistics\n",
    "    rolmean = timeseries.rolling(window).mean()\n",
    "    rolstd = timeseries.rolling(window).std()\n",
    "\n",
    "    #Plot rolling statistics:\n",
    "    fig = plt.figure(figsize=(12, 8))\n",
    "    orig = plt.plot(timeseries, color='blue',label='Original')\n",
    "    mean = plt.plot(rolmean, color='red', label='Rolling Mean')\n",
    "    std = plt.plot(rolstd, color='black', label = 'Rolling Std')\n",
    "    plt.legend(loc='best')\n",
    "    plt.title('Rolling Mean & Standard Deviation')\n",
    "    plt.show()\n",
    "    \n",
    "    #Perform Dickey-Fuller test:\n",
    "    print('Results of Dickey-Fuller Test:')\n",
    "    dftest = adfuller(timeseries, autolag='AIC', maxlag = 20 )\n",
    "    dfoutput = pd.Series(dftest[0:4], index=['Test Statistic','p-value','#Lags Used','Number of Observations Used'])\n",
    "    for key,value in dftest[4].items():\n",
    "        dfoutput['Critical Value (%s)'%key] = value\n",
    "    pvalue = dftest[1]\n",
    "    if pvalue < cutoff:\n",
    "        print('p-value = %.4f. The series is likely stationary.' % pvalue)\n",
    "    else:\n",
    "        print('p-value = %.4f. The series is likely non-stationary.' % pvalue)\n",
    "    \n",
    "    print(dfoutput)\n"
   ]
  },
  {
   "cell_type": "code",
   "execution_count": null,
   "metadata": {
    "_uuid": "6bb44be338102b24fb62ba8a92d69dd399e2492f"
   },
   "outputs": [],
   "source": [
    "test_stationarity(train_df['sales'])"
   ]
  },
  {
   "cell_type": "markdown",
   "metadata": {
    "_uuid": "21a35cea79bd763a3399115e8672500f85e44953"
   },
   "source": [
    "the smaller p-value, the more likely it's stationary. Here our p-value is 0.036. It's actually not bad, if we use a 5% Critical Value(CV), this series would be considered stationary. But as we just visually found an upward trend, we want to be more strict, we use 1% CV.  \n",
    "To get a stationary data, there's many techiniques. We can use log, differencing etc... "
   ]
  },
  {
   "cell_type": "code",
   "execution_count": null,
   "metadata": {
    "_uuid": "ae1e5b9ccdf31a47b48e0d20bd25f2ceaa370725"
   },
   "outputs": [],
   "source": [
    "first_diff = train_df.sales - train_df.sales.shift(1)\n",
    "first_diff = first_diff.dropna(inplace = False)\n",
    "test_stationarity(first_diff, window = 12)"
   ]
  },
  {
   "cell_type": "markdown",
   "metadata": {
    "_uuid": "1ef9dc951591af3b49fbcb361f117c5d528f0978"
   },
   "source": [
    "After differencing, the p-value is extremely small. Thus this series is very likely to be stationary.  \n",
    "\n",
    "\n",
    "## ACF and PACF\n",
    "\n",
    "The partial autocorrelation at lag k is the correlation that results after removing the effect of any correlations due to the terms at shorter lags.\n",
    "\n",
    "### Autoregression Intuition\n",
    "Consider a time series that was generated by an autoregression (AR) process with a lag of k.\n",
    "\n",
    "We know that the ACF describes the autocorrelation between an observation and another observation at a prior time step that includes direct and indirect dependence information.\n",
    "\n",
    "This means we would expect the ACF for the AR(k) time series to be strong to a lag of k and the inertia of that relationship would carry on to subsequent lag values, trailing off at some point as the effect was weakened.\n",
    "\n",
    "We know that the PACF only describes the direct relationship between an observation and its lag. This would suggest that there would be no correlation for lag values beyond k.\n",
    "\n",
    "This is exactly the expectation of the ACF and PACF plots for an AR(k) process.\n",
    "\n",
    "### Moving Average Intuition\n",
    "Consider a time series that was generated by a moving average (MA) process with a lag of k.\n",
    "\n",
    "Remember that the moving average process is an autoregression model of the time series of residual errors from prior predictions. Another way to think about the moving average model is that it corrects future forecasts based on errors made on recent forecasts.\n",
    "\n",
    "We would expect the ACF for the MA(k) process to show a strong correlation with recent values up to the lag of k, then a sharp decline to low or no correlation. By definition, this is how the process was generated.\n",
    "\n",
    "For the PACF, we would expect the plot to show a strong relationship to the lag and a trailing off of correlation from the lag onwards.\n",
    "\n",
    "Again, this is exactly the expectation of the ACF and PACF plots for an MA(k) process.\n",
    "### Summary\n",
    "From the autocorrelation plot we can tell whether or not we need to add MA terms. From the partial autocorrelation plot we know we need to add AR terms.\n",
    "\n",
    "### References:  \n",
    "https://machinelearningmastery.com/gentle-introduction-autocorrelation-partial-autocorrelation/\n"
   ]
  },
  {
   "cell_type": "code",
   "execution_count": null,
   "metadata": {
    "_uuid": "3002d08b73a8aa34e458a5ed43ffe17d7256b64e"
   },
   "outputs": [],
   "source": [
    "import statsmodels.api as sm\n",
    "\n",
    "fig = plt.figure(figsize=(12,8))\n",
    "ax1 = fig.add_subplot(211)\n",
    "fig = sm.graphics.tsa.plot_acf(train_df.sales, lags=40, ax=ax1) # \n",
    "ax2 = fig.add_subplot(212)\n",
    "fig = sm.graphics.tsa.plot_pacf(train_df.sales, lags=40, ax=ax2)# , lags=40"
   ]
  },
  {
   "cell_type": "code",
   "execution_count": null,
   "metadata": {
    "_uuid": "07d1c0a66c6bc9b3ccec6e7ed1c8c6690d4a9b97"
   },
   "outputs": [],
   "source": [
    "fig = plt.figure(figsize=(12,8))\n",
    "ax1 = fig.add_subplot(211)\n",
    "fig = sm.graphics.tsa.plot_acf(first_diff, lags=40, ax=ax1)\n",
    "ax2 = fig.add_subplot(212)\n",
    "fig = sm.graphics.tsa.plot_pacf(first_diff, lags=40, ax=ax2)\n",
    "\n",
    "# Here we can see the acf and pacf both has a recurring pattern every 7 periods. Indicating a weekly pattern exists. \n",
    "# Any time you see a regular pattern like that in one of these plots, you should suspect that there is some sort of \n",
    "# significant seasonal thing going on. Then we should start to consider SARIMA to take seasonality into accuont"
   ]
  },
  {
   "cell_type": "markdown",
   "metadata": {
    "_uuid": "471105ce7f8551619eed9e8b0f36cdb4be0621f7"
   },
   "source": [
    "Because the autocorrelation of the differenced series is negative at lag 7, 14, 21 etc.. (every week), I should an SMA term to the model.   \n",
    "## Build the model\n",
    "\n",
    "### How to determin p, d, q\n",
    "\n",
    "It's easy to determin I. In our case, we see the first order differencing make the ts stationary. **I = 1**.\n",
    "\n",
    "AR model might be investigated first with lag length selected from the PACF or via empirical investigation. In our case, it's clearly that within 6 lags the AR is significant. Which means, we can use ** AR = 6** \n",
    "\n",
    "To avoid the potential for incorrectly specifying the MA order (in the case where the MA is first tried then the MA order is being set to 0),  it may often make sense to extend the lag observed from the last significant term in the PACF.\n",
    "\n",
    "What is interesting is that when the AR model is appropriately specified, the the residuals from this model can be used to directly observe the uncorrelated error. This residual can be used to further investigate alternative MA and ARMA model specifications directly by regression.\n",
    "\n",
    "Assuming an AR(s) model were computed, then I would suggest that the next step in identification is to estimate an MA model with s-1 lags in the uncorrelated errors derived from the regression. The parsimonious MA specification might be considered and this might be compared with a more parsimonious AR specification. Then ARMA models might also be analysed.\n",
    "### Reference:\n",
    "https://www.researchgate.net/post/How_does_one_determine_the_values_for_ARp_and_MAq   \n",
    "https://stats.stackexchange.com/questions/281666/how-does-acf-pacf-identify-the-order-of-ma-and-ar-terms/281726#281726  \n",
    "https://stats.stackexchange.com/questions/134487/analyse-acf-and-pacf-plots?rq=1  "
   ]
  },
  {
   "cell_type": "code",
   "execution_count": null,
   "metadata": {
    "_uuid": "c0250aff147382899a50d89e2fd106bd636d8400"
   },
   "outputs": [],
   "source": [
    "arima_mod6 = sm.tsa.ARIMA(train_df.sales, (6,1,0)).fit(disp=False)\n",
    "print(arima_mod6.summary())"
   ]
  },
  {
   "cell_type": "markdown",
   "metadata": {
    "_uuid": "a0409af01a11bb57a3fcef69a9887eec3abc2b80"
   },
   "source": [
    "### Analyze the result\n",
    "To see how our first model perform, we can plot the residual distribution. See if it's normal dist. And the ACF and PACF. For a good model, we want to see the residual is normal distribution. And ACF, PACF has not significant terms."
   ]
  },
  {
   "cell_type": "code",
   "execution_count": null,
   "metadata": {
    "_uuid": "7abf3684fb85164182834b6bd47bfbdec84b4b77"
   },
   "outputs": [],
   "source": [
    "from scipy import stats\n",
    "from scipy.stats import normaltest\n",
    "\n",
    "resid = arima_mod6.resid\n",
    "print(normaltest(resid))\n",
    "# returns a 2-tuple of the chi-squared statistic, and the associated p-value. the p-value is very small, meaning\n",
    "# the residual is not a normal distribution\n",
    "\n",
    "fig = plt.figure(figsize=(12,8))\n",
    "ax0 = fig.add_subplot(111)\n",
    "\n",
    "sns.distplot(resid ,fit = stats.norm, ax = ax0) # need to import scipy.stats\n",
    "\n",
    "# Get the fitted parameters used by the function\n",
    "(mu, sigma) = stats.norm.fit(resid)\n",
    "\n",
    "#Now plot the distribution using \n",
    "plt.legend(['Normal dist. ($\\mu=$ {:.2f} and $\\sigma=$ {:.2f} )'.format(mu, sigma)], loc='best')\n",
    "plt.ylabel('Frequency')\n",
    "plt.title('Residual distribution')\n",
    "\n",
    "\n",
    "# ACF and PACF\n",
    "fig = plt.figure(figsize=(12,8))\n",
    "ax1 = fig.add_subplot(211)\n",
    "fig = sm.graphics.tsa.plot_acf(arima_mod6.resid, lags=40, ax=ax1)\n",
    "ax2 = fig.add_subplot(212)\n",
    "fig = sm.graphics.tsa.plot_pacf(arima_mod6.resid, lags=40, ax=ax2)"
   ]
  },
  {
   "cell_type": "markdown",
   "metadata": {
    "_uuid": "c749321852ee7fe54cf304eadb542da27ef05e8d"
   },
   "source": [
    "Although the graph looks very like a normal distribution. But it failed the test. Also we see a recurring correlation exists in both ACF and PACF. So we need to deal with seasonality.\n",
    "\n",
    "### Consider seasonality affect by SARIMA\n",
    "\n",
    "\n",
    "https://www.statsmodels.org/dev/examples/notebooks/generated/statespace_sarimax_stata.html  \n",
    "https://barnesanalytics.com/sarima-models-using-statsmodels-in-python"
   ]
  },
  {
   "cell_type": "code",
   "execution_count": null,
   "metadata": {
    "_uuid": "10cd57caa5ade104670bc8fdac2066d18ba80c7d"
   },
   "outputs": [],
   "source": [
    "sarima_mod6 = sm.tsa.statespace.SARIMAX(train_df.sales, trend='n', order=(6,1,0)).fit()\n",
    "print(sarima_mod6.summary())"
   ]
  },
  {
   "cell_type": "code",
   "execution_count": null,
   "metadata": {
    "_uuid": "a059e1cee7d9c33e52abbe3cddd5e9d44c6d26eb"
   },
   "outputs": [],
   "source": [
    "resid = sarima_mod6.resid\n",
    "print(normaltest(resid))\n",
    "\n",
    "fig = plt.figure(figsize=(12,8))\n",
    "ax0 = fig.add_subplot(111)\n",
    "\n",
    "sns.distplot(resid ,fit = stats.norm, ax = ax0) # need to import scipy.stats\n",
    "\n",
    "# Get the fitted parameters used by the function\n",
    "(mu, sigma) = stats.norm.fit(resid)\n",
    "\n",
    "#Now plot the distribution using \n",
    "plt.legend(['Normal dist. ($\\mu=$ {:.2f} and $\\sigma=$ {:.2f} )'.format(mu, sigma)], loc='best')\n",
    "plt.ylabel('Frequency')\n",
    "plt.title('Residual distribution')\n",
    "\n",
    "\n",
    "# ACF and PACF\n",
    "fig = plt.figure(figsize=(12,8))\n",
    "ax1 = fig.add_subplot(211)\n",
    "fig = sm.graphics.tsa.plot_acf(arima_mod6.resid, lags=40, ax=ax1)\n",
    "ax2 = fig.add_subplot(212)\n",
    "fig = sm.graphics.tsa.plot_pacf(arima_mod6.resid, lags=40, ax=ax2)"
   ]
  },
  {
   "cell_type": "markdown",
   "metadata": {
    "_uuid": "21e83dc5ec8e4fd7b5f8614f99569d1c6e6e7e6b"
   },
   "source": [
    "## Make prediction and evaluation\n",
    "\n",
    "Take the last 30 days in training set as validation data"
   ]
  },
  {
   "cell_type": "code",
   "execution_count": null,
   "metadata": {
    "_uuid": "31f10644a11609f44765eaa544716cbc5bd2718f"
   },
   "outputs": [],
   "source": [
    "start_index = 1730\n",
    "end_index = 1826\n",
    "train_df['forecast'] = sarima_mod6.predict(start = start_index, end= end_index, dynamic= True)  \n",
    "train_df[start_index:end_index][['sales', 'forecast']].plot(figsize=(12, 8))"
   ]
  },
  {
   "cell_type": "code",
   "execution_count": null,
   "metadata": {
    "_uuid": "b2fc22d1f88d4b92ca087713eff7046dac271cf8"
   },
   "outputs": [],
   "source": [
    "def smape_kun(y_true, y_pred):\n",
    "    mape = np.mean(abs((y_true-y_pred)/y_true))*100\n",
    "    smape = np.mean((np.abs(y_pred - y_true) * 200/ (np.abs(y_pred) + np.abs(y_true))).fillna(0))\n",
    "    print('MAPE: %.2f %% \\nSMAPE: %.2f'% (mape,smape), \"%\")"
   ]
  },
  {
   "cell_type": "code",
   "execution_count": null,
   "metadata": {
    "_uuid": "6be12c96e2ca369b3c861be7975b85bbb96e3c2a"
   },
   "outputs": [],
   "source": [
    "smape_kun(train_df[1730:1825]['sales'],train_df[1730:1825]['forecast'])"
   ]
  },
  {
   "cell_type": "markdown",
   "metadata": {
    "_uuid": "9e58f6b7ccf68df74c70c17bf4e0bf02daa9200a",
    "collapsed": true
   },
   "source": [
    "## SARIMAX: adding external variables "
   ]
  },
  {
   "cell_type": "code",
   "execution_count": null,
   "metadata": {
    "_uuid": "b1f589762e030e20fef29dca3cf821acb197c3f3"
   },
   "outputs": [],
   "source": [
    "# per 1 store, 1 item\n",
    "storeid = 1\n",
    "itemid = 1\n",
    "train_df = train[train['store']==storeid]\n",
    "train_df = train_df[train_df['item']==itemid]\n",
    "\n",
    "# train_df = train_df.set_index('date')\n",
    "train_df['year'] = train_df['date'].dt.year - 2012\n",
    "train_df['month'] = train_df['date'].dt.month\n",
    "train_df['day'] = train_df['date'].dt.dayofyear\n",
    "train_df['weekday'] = train_df['date'].dt.weekday\n",
    "\n",
    "start_index = 1730\n",
    "end_index = 1826\n",
    "\n",
    "# train_df.head()"
   ]
  },
  {
   "cell_type": "code",
   "execution_count": null,
   "metadata": {
    "_uuid": "ebefa9d915e0071a3a81a586156e7053a3430f4c"
   },
   "outputs": [],
   "source": [
    "holiday = pd.read_csv('../input/holiday/USholidays.csv',header=None, names = ['date', 'holiday'])\n",
    "holiday['date'] = pd.to_datetime(holiday['date'], yearfirst = True, format = '%y/%m/%d')\n",
    "holiday.head()"
   ]
  },
  {
   "cell_type": "code",
   "execution_count": null,
   "metadata": {
    "_uuid": "5bb6e00ff4aac9f0a458c39f1b4419a31cd9e14f"
   },
   "outputs": [],
   "source": [
    "train_df = train_df.merge(holiday, how='left', on='date')\n",
    "train_df['holiday_bool'] = pd.notnull(train_df['holiday']).astype(int)\n",
    "train_df = pd.get_dummies(train_df, columns = ['month','holiday','weekday'] , prefix = ['month','holiday','weekday'])\n",
    "# train_df.head()\n",
    "# train_df.shape\n",
    "# train_df.columns"
   ]
  },
  {
   "cell_type": "code",
   "execution_count": null,
   "metadata": {
    "_uuid": "3fd8c8f69d71774306ea109fe8ab5d0608c0f9c4"
   },
   "outputs": [],
   "source": [
    "ext_var_list = ['date','year', 'day', 'holiday_bool',\n",
    "       'month_1', 'month_2', 'month_3', 'month_4', 'month_5', 'month_6',\n",
    "       'month_7', 'month_8', 'month_9', 'month_10', 'month_11', 'month_12',\n",
    "       'holiday_Christmas Day', 'holiday_Columbus Day',\n",
    "       'holiday_Independence Day', 'holiday_Labor Day',\n",
    "       'holiday_Martin Luther King Jr. Day', 'holiday_Memorial Day',\n",
    "       'holiday_New Year Day', 'holiday_Presidents Day (Washingtons Birthday)',\n",
    "       'holiday_Thanksgiving Day', 'holiday_Veterans Day', 'weekday_0',\n",
    "       'weekday_1', 'weekday_2', 'weekday_3', 'weekday_4', 'weekday_5',\n",
    "       'weekday_6']"
   ]
  },
  {
   "cell_type": "code",
   "execution_count": null,
   "metadata": {
    "_uuid": "f743c7794271b539dfc0d5cc2a3c77fb54f3023f"
   },
   "outputs": [],
   "source": [
    "exog_data = train_df[ext_var_list]\n",
    "exog_data = exog_data.set_index('date')\n",
    "exog_data.head()"
   ]
  },
  {
   "cell_type": "code",
   "execution_count": null,
   "metadata": {
    "_uuid": "babfb4ac22cc03014095f14568a557b266c3a40a"
   },
   "outputs": [],
   "source": [
    "train_df = train_df.set_index('date')\n",
    "# train_df = train_df.reset_index()\n",
    "train_df.head()\n"
   ]
  },
  {
   "cell_type": "code",
   "execution_count": null,
   "metadata": {
    "_uuid": "9f1be98a545131cb735e45e19fb7f48a3607f428"
   },
   "outputs": [],
   "source": [
    "start_index = '2017-10-01'\n",
    "end_index = '2017-12-31'\n",
    "# exog_data.head()"
   ]
  },
  {
   "cell_type": "code",
   "execution_count": null,
   "metadata": {
    "_uuid": "73d0cc2b1016a7ef2f80ad6426b168b197fd40cc"
   },
   "outputs": [],
   "source": [
    "%%time\n",
    "sarimax_mod6 = sm.tsa.statespace.SARIMAX(endog = train_df.sales[:start_index],\n",
    "                                        exog = exog_data[:start_index],  \n",
    "                                        trend='n', order=(6,1,0), seasonal_order=(0,1,1,7)).fit()\n",
    "print(sarimax_mod6.summary())"
   ]
  },
  {
   "cell_type": "markdown",
   "metadata": {
    "_uuid": "43afe8c5eeac3781b1f7e63f8beb8692adee184c"
   },
   "source": [
    "These model coefficients are not very reliable as most of them are not significant. This would imply a high collinearity between the data.  "
   ]
  },
  {
   "cell_type": "code",
   "execution_count": null,
   "metadata": {
    "_uuid": "3d83f4612f1946f26efea8237884fae9389f64f5"
   },
   "outputs": [],
   "source": [
    "start_index = '2017-10-01'\n",
    "end_index = '2017-12-30'\n",
    "end_index1 = '2017-12-31'"
   ]
  },
  {
   "cell_type": "code",
   "execution_count": null,
   "metadata": {
    "_uuid": "6b55ca8c50d0f6fdd2f30776879e037065fe6c6e",
    "collapsed": true
   },
   "outputs": [],
   "source": [
    "sarimax_mod6.forecast(steps = 121,exog = exog_data[start_index:end_index])"
   ]
  },
  {
   "cell_type": "code",
   "execution_count": null,
   "metadata": {
    "_uuid": "ebe9de71af1fb60d524a93c2726ec7c25b0cd2dd"
   },
   "outputs": [],
   "source": [
    "train_df['forecast'] = sarimax_mod6.predict(start = pd.to_datetime(start_index), end= pd.to_datetime(end_index1),\n",
    "                                            exog = exog_data[start_index:end_index], \n",
    "                                            dynamic= True)  \n",
    "\n",
    "train_df[start_index:end_index][['sales', 'forecast']].plot(figsize=(12, 8))"
   ]
  },
  {
   "cell_type": "code",
   "execution_count": null,
   "metadata": {
    "_uuid": "df633ab7c0e51527d0b18b435d8ad3647a1340fb"
   },
   "outputs": [],
   "source": [
    "smape_kun(train_df[start_index:end_index]['sales'],train_df[start_index:end_index]['forecast'])"
   ]
  },
  {
   "cell_type": "markdown",
   "metadata": {
    "_uuid": "91793f6a8a7b79cefdc76940de9645b367dabbc9"
   },
   "source": [
    "### Some last words:\n",
    "\n",
    "ARIMA makes much more sense to me now. ACF and PACF are useful to determine the p, d, q. And each test is indeed helping me to justify whether I'm getting a better model or worse one. \n",
    "\n",
    "\n",
    "Pros:  \n",
    "* Intepretability: Each coefficient means a specific thing\n",
    "* ts key elements understanding: the concept of lags, and error lag terms are very unique, ARIMA gave a comprehensive cover on them. So even in the future I want to try some other regression model. I would add the lag terms and consider the error term. \n",
    "\n",
    "Cons:  \n",
    "* Inefficiency: ARIMA needs to be run on each time series, since we have 500 store/item combinations, it needs to run 500 times. Every time we want to forecast the future, say on Jan 2, 2018, we want to forecast next 90 days. We need to re-run ARIMA. \n",
    "\n"
   ]
  },
  {
   "cell_type": "code",
   "execution_count": null,
   "metadata": {
    "_uuid": "e771c165aecb8039f2d864fbfa827b343ee5305e"
   },
   "outputs": [],
   "source": []
  }
 ],
 "metadata": {
  "anaconda-cloud": {},
  "kernelspec": {
   "display_name": "Python 3",
   "language": "python",
   "name": "python3"
  },
  "language_info": {
   "codemirror_mode": {
    "name": "ipython",
    "version": 3
   },
   "file_extension": ".py",
   "mimetype": "text/x-python",
   "name": "python",
   "nbconvert_exporter": "python",
   "pygments_lexer": "ipython3",
   "version": "3.7.4"
  }
 },
 "nbformat": 4,
 "nbformat_minor": 1
}
